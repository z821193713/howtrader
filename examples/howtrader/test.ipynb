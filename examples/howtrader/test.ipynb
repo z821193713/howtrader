{
 "cells": [
  {
   "cell_type": "code",
   "metadata": {
    "ExecuteTime": {
     "end_time": "2024-08-08T13:00:51.647911Z",
     "start_time": "2024-08-08T13:00:51.640882Z"
    }
   },
   "source": [
    "from datetime import datetime\n",
    "\n",
    "from howtrader.app.cta_strategy.backtesting_new import BacktestingEngine\n",
    "from examples.strategies.demo01_strategy import BinanceStrategy\n",
    "from howtrader.trader.constant import Interval\n"
   ],
   "outputs": [],
   "execution_count": 2
  },
  {
   "metadata": {
    "ExecuteTime": {
     "end_time": "2024-08-08T13:03:10.874116Z",
     "start_time": "2024-08-08T13:01:39.138867Z"
    }
   },
   "cell_type": "code",
   "source": [
    "\n",
    "engine = BacktestingEngine()\n",
    "engine.set_parameters(\n",
    "    vt_symbol=\"BTCUSDT.BINANCE\",\n",
    "    interval=Interval.MINUTE,\n",
    "    start=datetime(2023, 10, 1),\n",
    "    end=datetime(2023, 10, 3),\n",
    "    rate=6/ 10000,\n",
    "    slippage=0,\n",
    "    size=1,\n",
    "    pricetick=0.01,\n",
    "    capital=10000,\n",
    ")\n",
    "# 设置策略参数\n",
    "strategy_setting = {\n",
    "    \"symbols\": [\n",
    "        \"BTCUSDT.BINANCE\",\n",
    "        \"ETHUSDT.BINANCE\",\n",
    "        \"BCHUSDT.BINANCE\",\n",
    "        \"XRPUSDT.BINANCE\",\n",
    "        \"EOSUSDT.BINANCE\",\n",
    "        \"LTCUSDT.BINANCE\",\n",
    "        \"TRXUSDT.BINANCE\",\n",
    "        \"ETCUSDT.BINANCE\"\n",
    "    ],\n",
    "    \"max_pos\": 5,\n",
    "    \"buy_amount\": 4000,\n",
    "    \"take_profit\": 5,\n",
    "    \"stop_loss\": 2.5,\n",
    "}\n",
    "\n",
    "# 添加策略\n",
    "engine.add_strategy(BinanceStrategy, strategy_setting)\n",
    "\n",
    "# 加载数据并运行回测\n",
    "engine.load_data()"
   ],
   "outputs": [
    {
     "name": "stdout",
     "output_type": "stream",
     "text": [
      "2024-08-08 21:01:39.143870\t开始加载历史数据\n",
      "2024-08-08 21:03:10.858233\t加载进度：########## [100%]\n",
      "2024-08-08 21:03:10.858233\t历史数据加载完成，数据量：587724\n"
     ]
    }
   ],
   "execution_count": 4
  },
  {
   "metadata": {
    "ExecuteTime": {
     "end_time": "2024-08-10T01:03:32.397397Z",
     "start_time": "2024-08-10T01:03:32.380390Z"
    }
   },
   "cell_type": "code",
   "source": "",
   "outputs": [
    {
     "name": "stdout",
     "output_type": "stream",
     "text": [
      "587724\n"
     ]
    }
   ],
   "execution_count": 10
  }
 ],
 "metadata": {
  "kernelspec": {
   "display_name": "Python 3",
   "language": "python",
   "name": "python3"
  },
  "language_info": {
   "codemirror_mode": {
    "name": "ipython",
    "version": 3
   },
   "file_extension": ".py",
   "mimetype": "text/x-python",
   "name": "python",
   "nbconvert_exporter": "python",
   "pygments_lexer": "ipython3",
   "version": "3.7.1"
  },
  "toc": {
   "base_numbering": 1.0,
   "nav_menu": {},
   "number_sections": true,
   "sideBar": true,
   "skip_h1_title": false,
   "title_cell": "Table of Contents",
   "title_sidebar": "Contents",
   "toc_cell": false,
   "toc_position": {},
   "toc_section_display": true,
   "toc_window_display": false
  },
  "varInspector": {
   "cols": {
    "lenName": 16.0,
    "lenType": 16.0,
    "lenVar": 40.0
   },
   "kernels_config": {
    "python": {
     "delete_cmd_postfix": "",
     "delete_cmd_prefix": "del ",
     "library": "var_list.py",
     "varRefreshCmd": "print(var_dic_list())"
    },
    "r": {
     "delete_cmd_postfix": ") ",
     "delete_cmd_prefix": "rm(",
     "library": "var_list.r",
     "varRefreshCmd": "cat(var_dic_list()) "
    }
   },
   "types_to_exclude": [
    "module",
    "function",
    "builtin_function_or_method",
    "instance",
    "_Feature"
   ],
   "window_display": false
  }
 },
 "nbformat": 4,
 "nbformat_minor": 2
}
